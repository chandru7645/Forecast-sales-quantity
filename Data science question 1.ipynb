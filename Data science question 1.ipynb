{
 "cells": [
  {
   "cell_type": "markdown",
   "id": "fb1079d9",
   "metadata": {},
   "source": [
    "## Importing need Packges for our requriments"
   ]
  },
  {
   "cell_type": "code",
   "execution_count": 1,
   "id": "0260e961",
   "metadata": {},
   "outputs": [],
   "source": [
    "import pandas as pd\n",
    "import numpy as np "
   ]
  },
  {
   "cell_type": "markdown",
   "id": "888fe282",
   "metadata": {},
   "source": [
    "###  Load the dataset in Excel file or CSV file"
   ]
  },
  {
   "cell_type": "code",
   "execution_count": 2,
   "id": "359ce634",
   "metadata": {},
   "outputs": [
    {
     "data": {
      "text/html": [
       "<div>\n",
       "<style scoped>\n",
       "    .dataframe tbody tr th:only-of-type {\n",
       "        vertical-align: middle;\n",
       "    }\n",
       "\n",
       "    .dataframe tbody tr th {\n",
       "        vertical-align: top;\n",
       "    }\n",
       "\n",
       "    .dataframe thead th {\n",
       "        text-align: right;\n",
       "    }\n",
       "</style>\n",
       "<table border=\"1\" class=\"dataframe\">\n",
       "  <thead>\n",
       "    <tr style=\"text-align: right;\">\n",
       "      <th></th>\n",
       "      <th>Item</th>\n",
       "      <th>Loc</th>\n",
       "      <th>Forecast_Dt</th>\n",
       "      <th>Category</th>\n",
       "      <th>Sub_Category</th>\n",
       "      <th>Prod_Class</th>\n",
       "      <th>Prod_Sub_Class</th>\n",
       "      <th>Sales_Quantity</th>\n",
       "    </tr>\n",
       "  </thead>\n",
       "  <tbody>\n",
       "    <tr>\n",
       "      <th>0</th>\n",
       "      <td>PKCM3</td>\n",
       "      <td>4</td>\n",
       "      <td>2021-03-23</td>\n",
       "      <td>CHUTNEY</td>\n",
       "      <td>MANGO</td>\n",
       "      <td>SWEET</td>\n",
       "      <td>NaN</td>\n",
       "      <td>2.0</td>\n",
       "    </tr>\n",
       "    <tr>\n",
       "      <th>1</th>\n",
       "      <td>LMDA7</td>\n",
       "      <td>10</td>\n",
       "      <td>2022-10-07</td>\n",
       "      <td>SPICES</td>\n",
       "      <td>ROASTED GRAM</td>\n",
       "      <td>DAL</td>\n",
       "      <td>NaN</td>\n",
       "      <td>5.0</td>\n",
       "    </tr>\n",
       "    <tr>\n",
       "      <th>2</th>\n",
       "      <td>LFVG3</td>\n",
       "      <td>4</td>\n",
       "      <td>2021-07-30</td>\n",
       "      <td>FROZEN</td>\n",
       "      <td>VEGETABLE</td>\n",
       "      <td>GREEN PEAS</td>\n",
       "      <td>NaN</td>\n",
       "      <td>6.0</td>\n",
       "    </tr>\n",
       "    <tr>\n",
       "      <th>3</th>\n",
       "      <td>9DMR6</td>\n",
       "      <td>10</td>\n",
       "      <td>2021-10-21</td>\n",
       "      <td>NUTS</td>\n",
       "      <td>DATES</td>\n",
       "      <td>WHOLE</td>\n",
       "      <td>NaN</td>\n",
       "      <td>9.0</td>\n",
       "    </tr>\n",
       "    <tr>\n",
       "      <th>4</th>\n",
       "      <td>LFPS3</td>\n",
       "      <td>10</td>\n",
       "      <td>2022-10-28</td>\n",
       "      <td>FROZEN</td>\n",
       "      <td>RTC - VEG</td>\n",
       "      <td>SNACKS</td>\n",
       "      <td>SAMOSA</td>\n",
       "      <td>1.0</td>\n",
       "    </tr>\n",
       "  </tbody>\n",
       "</table>\n",
       "</div>"
      ],
      "text/plain": [
       "    Item  Loc Forecast_Dt Category  Sub_Category  Prod_Class Prod_Sub_Class  \\\n",
       "0  PKCM3    4  2021-03-23  CHUTNEY         MANGO       SWEET            NaN   \n",
       "1  LMDA7   10  2022-10-07   SPICES  ROASTED GRAM         DAL            NaN   \n",
       "2  LFVG3    4  2021-07-30   FROZEN     VEGETABLE  GREEN PEAS            NaN   \n",
       "3  9DMR6   10  2021-10-21     NUTS         DATES       WHOLE            NaN   \n",
       "4  LFPS3   10  2022-10-28   FROZEN     RTC - VEG      SNACKS         SAMOSA   \n",
       "\n",
       "   Sales_Quantity  \n",
       "0             2.0  \n",
       "1             5.0  \n",
       "2             6.0  \n",
       "3             9.0  \n",
       "4             1.0  "
      ]
     },
     "execution_count": 2,
     "metadata": {},
     "output_type": "execute_result"
    }
   ],
   "source": [
    "link=r\"C:\\Users\\Seenivasan\\Desktop\\data\\train.xlsx\"\n",
    "data=pd.read_excel(link)\n",
    "data.head( )"
   ]
  },
  {
   "cell_type": "code",
   "execution_count": 3,
   "id": "884bf8a9",
   "metadata": {},
   "outputs": [
    {
     "data": {
      "text/html": [
       "<div>\n",
       "<style scoped>\n",
       "    .dataframe tbody tr th:only-of-type {\n",
       "        vertical-align: middle;\n",
       "    }\n",
       "\n",
       "    .dataframe tbody tr th {\n",
       "        vertical-align: top;\n",
       "    }\n",
       "\n",
       "    .dataframe thead th {\n",
       "        text-align: right;\n",
       "    }\n",
       "</style>\n",
       "<table border=\"1\" class=\"dataframe\">\n",
       "  <thead>\n",
       "    <tr style=\"text-align: right;\">\n",
       "      <th></th>\n",
       "      <th>Item</th>\n",
       "      <th>Loc</th>\n",
       "      <th>Forecast_Dt</th>\n",
       "      <th>Category</th>\n",
       "      <th>Sub_Category</th>\n",
       "      <th>Prod_Class</th>\n",
       "      <th>Prod_Sub_Class</th>\n",
       "      <th>Sales_Quantity</th>\n",
       "    </tr>\n",
       "  </thead>\n",
       "  <tbody>\n",
       "    <tr>\n",
       "      <th>1017305</th>\n",
       "      <td>PAM21</td>\n",
       "      <td>10</td>\n",
       "      <td>2021-11-24</td>\n",
       "      <td>COOKIE</td>\n",
       "      <td>MONACO</td>\n",
       "      <td>REGULAR</td>\n",
       "      <td>NaN</td>\n",
       "      <td>2.0</td>\n",
       "    </tr>\n",
       "    <tr>\n",
       "      <th>1017306</th>\n",
       "      <td>PAG0</td>\n",
       "      <td>4</td>\n",
       "      <td>2021-11-09</td>\n",
       "      <td>COOKIE</td>\n",
       "      <td>GLUCO</td>\n",
       "      <td>NaN</td>\n",
       "      <td>NaN</td>\n",
       "      <td>10.0</td>\n",
       "    </tr>\n",
       "    <tr>\n",
       "      <th>1017307</th>\n",
       "      <td>1CO7</td>\n",
       "      <td>11</td>\n",
       "      <td>2022-02-25</td>\n",
       "      <td>SPICES</td>\n",
       "      <td>CORIANDER</td>\n",
       "      <td>SEED</td>\n",
       "      <td>NaN</td>\n",
       "      <td>1.0</td>\n",
       "    </tr>\n",
       "    <tr>\n",
       "      <th>1017308</th>\n",
       "      <td>6M5</td>\n",
       "      <td>2</td>\n",
       "      <td>2022-08-17</td>\n",
       "      <td>DALS &amp; BEANS</td>\n",
       "      <td>MOONG</td>\n",
       "      <td>DAL</td>\n",
       "      <td>REGULAR</td>\n",
       "      <td>11.0</td>\n",
       "    </tr>\n",
       "    <tr>\n",
       "      <th>1017309</th>\n",
       "      <td>GGSB5</td>\n",
       "      <td>11</td>\n",
       "      <td>2022-03-31</td>\n",
       "      <td>SNACK</td>\n",
       "      <td>MIXTURE</td>\n",
       "      <td>BHEL SEV</td>\n",
       "      <td>NaN</td>\n",
       "      <td>24.0</td>\n",
       "    </tr>\n",
       "  </tbody>\n",
       "</table>\n",
       "</div>"
      ],
      "text/plain": [
       "          Item  Loc Forecast_Dt      Category Sub_Category Prod_Class  \\\n",
       "1017305  PAM21   10  2021-11-24        COOKIE       MONACO    REGULAR   \n",
       "1017306   PAG0    4  2021-11-09        COOKIE        GLUCO        NaN   \n",
       "1017307   1CO7   11  2022-02-25        SPICES    CORIANDER       SEED   \n",
       "1017308    6M5    2  2022-08-17  DALS & BEANS        MOONG        DAL   \n",
       "1017309  GGSB5   11  2022-03-31         SNACK      MIXTURE   BHEL SEV   \n",
       "\n",
       "        Prod_Sub_Class  Sales_Quantity  \n",
       "1017305            NaN             2.0  \n",
       "1017306            NaN            10.0  \n",
       "1017307            NaN             1.0  \n",
       "1017308        REGULAR            11.0  \n",
       "1017309            NaN            24.0  "
      ]
     },
     "execution_count": 3,
     "metadata": {},
     "output_type": "execute_result"
    }
   ],
   "source": [
    "data.tail()"
   ]
  },
  {
   "cell_type": "markdown",
   "id": "c2756921",
   "metadata": {},
   "source": [
    "### Below few steps data pre-processing"
   ]
  },
  {
   "cell_type": "code",
   "execution_count": 4,
   "id": "76b43e3b",
   "metadata": {},
   "outputs": [
    {
     "name": "stdout",
     "output_type": "stream",
     "text": [
      "Item                   0\n",
      "Loc                    0\n",
      "Forecast_Dt            0\n",
      "Category               0\n",
      "Sub_Category           0\n",
      "Prod_Class        157905\n",
      "Prod_Sub_Class    635838\n",
      "Sales_Quantity         0\n",
      "dtype: int64\n"
     ]
    }
   ],
   "source": [
    "# Identify missing values\n",
    "missing_values = data.isnull()\n",
    "\n",
    "# Count missing values\n",
    "missing_count = missing_values.sum()\n",
    "\n",
    "# Print the count of missing values\n",
    "print(missing_count)"
   ]
  },
  {
   "cell_type": "code",
   "execution_count": 5,
   "id": "db7701c2",
   "metadata": {},
   "outputs": [
    {
     "name": "stdout",
     "output_type": "stream",
     "text": [
      "<class 'pandas.core.frame.DataFrame'>\n",
      "RangeIndex: 1017310 entries, 0 to 1017309\n",
      "Data columns (total 8 columns):\n",
      " #   Column          Non-Null Count    Dtype         \n",
      "---  ------          --------------    -----         \n",
      " 0   Item            1017310 non-null  object        \n",
      " 1   Loc             1017310 non-null  int64         \n",
      " 2   Forecast_Dt     1017310 non-null  datetime64[ns]\n",
      " 3   Category        1017310 non-null  object        \n",
      " 4   Sub_Category    1017310 non-null  object        \n",
      " 5   Prod_Class      859405 non-null   object        \n",
      " 6   Prod_Sub_Class  381472 non-null   object        \n",
      " 7   Sales_Quantity  1017310 non-null  float64       \n",
      "dtypes: datetime64[ns](1), float64(1), int64(1), object(5)\n",
      "memory usage: 62.1+ MB\n"
     ]
    }
   ],
   "source": [
    "data.info()"
   ]
  },
  {
   "cell_type": "code",
   "execution_count": 6,
   "id": "bbeb90ef",
   "metadata": {},
   "outputs": [
    {
     "name": "stdout",
     "output_type": "stream",
     "text": [
      "Our Data Dimensions Has 1017310 Records and 8 Attribute\n"
     ]
    }
   ],
   "source": [
    "data_dim=data.shape\n",
    "print(f\"Our Data Dimensions Has {data_dim[0]} Records and {data_dim[1]} Attribute\")"
   ]
  },
  {
   "cell_type": "code",
   "execution_count": 7,
   "id": "6fb33337",
   "metadata": {},
   "outputs": [
    {
     "name": "stdout",
     "output_type": "stream",
     "text": [
      "Item                      object\n",
      "Loc                        int64\n",
      "Forecast_Dt       datetime64[ns]\n",
      "Category                  object\n",
      "Sub_Category              object\n",
      "Prod_Class                object\n",
      "Prod_Sub_Class            object\n",
      "Sales_Quantity           float64\n",
      "dtype: object\n"
     ]
    }
   ],
   "source": [
    "print(data.dtypes)"
   ]
  },
  {
   "cell_type": "code",
   "execution_count": 8,
   "id": "5163db0d",
   "metadata": {
    "scrolled": true
   },
   "outputs": [
    {
     "data": {
      "text/html": [
       "<div>\n",
       "<style scoped>\n",
       "    .dataframe tbody tr th:only-of-type {\n",
       "        vertical-align: middle;\n",
       "    }\n",
       "\n",
       "    .dataframe tbody tr th {\n",
       "        vertical-align: top;\n",
       "    }\n",
       "\n",
       "    .dataframe thead th {\n",
       "        text-align: right;\n",
       "    }\n",
       "</style>\n",
       "<table border=\"1\" class=\"dataframe\">\n",
       "  <thead>\n",
       "    <tr style=\"text-align: right;\">\n",
       "      <th></th>\n",
       "      <th>Item</th>\n",
       "      <th>Loc</th>\n",
       "      <th>Forecast_Dt</th>\n",
       "      <th>Category</th>\n",
       "      <th>Sub_Category</th>\n",
       "      <th>Prod_Class</th>\n",
       "      <th>Prod_Sub_Class</th>\n",
       "      <th>Sales_Quantity</th>\n",
       "    </tr>\n",
       "  </thead>\n",
       "  <tbody>\n",
       "    <tr>\n",
       "      <th>0</th>\n",
       "      <td>PKCM3</td>\n",
       "      <td>4</td>\n",
       "      <td>2021-03-23</td>\n",
       "      <td>CHUTNEY</td>\n",
       "      <td>MANGO</td>\n",
       "      <td>SWEET</td>\n",
       "      <td>NaN</td>\n",
       "      <td>2.0</td>\n",
       "    </tr>\n",
       "    <tr>\n",
       "      <th>1</th>\n",
       "      <td>LMDA7</td>\n",
       "      <td>10</td>\n",
       "      <td>2022-10-07</td>\n",
       "      <td>SPICES</td>\n",
       "      <td>ROASTED GRAM</td>\n",
       "      <td>DAL</td>\n",
       "      <td>NaN</td>\n",
       "      <td>5.0</td>\n",
       "    </tr>\n",
       "    <tr>\n",
       "      <th>2</th>\n",
       "      <td>LFVG3</td>\n",
       "      <td>4</td>\n",
       "      <td>2021-07-30</td>\n",
       "      <td>FROZEN</td>\n",
       "      <td>VEGETABLE</td>\n",
       "      <td>GREEN PEAS</td>\n",
       "      <td>NaN</td>\n",
       "      <td>6.0</td>\n",
       "    </tr>\n",
       "    <tr>\n",
       "      <th>3</th>\n",
       "      <td>9DMR6</td>\n",
       "      <td>10</td>\n",
       "      <td>2021-10-21</td>\n",
       "      <td>NUTS</td>\n",
       "      <td>DATES</td>\n",
       "      <td>WHOLE</td>\n",
       "      <td>NaN</td>\n",
       "      <td>9.0</td>\n",
       "    </tr>\n",
       "    <tr>\n",
       "      <th>4</th>\n",
       "      <td>LFPS3</td>\n",
       "      <td>10</td>\n",
       "      <td>2022-10-28</td>\n",
       "      <td>FROZEN</td>\n",
       "      <td>RTC - VEG</td>\n",
       "      <td>SNACKS</td>\n",
       "      <td>SAMOSA</td>\n",
       "      <td>1.0</td>\n",
       "    </tr>\n",
       "  </tbody>\n",
       "</table>\n",
       "</div>"
      ],
      "text/plain": [
       "    Item  Loc Forecast_Dt Category  Sub_Category  Prod_Class Prod_Sub_Class  \\\n",
       "0  PKCM3    4  2021-03-23  CHUTNEY         MANGO       SWEET            NaN   \n",
       "1  LMDA7   10  2022-10-07   SPICES  ROASTED GRAM         DAL            NaN   \n",
       "2  LFVG3    4  2021-07-30   FROZEN     VEGETABLE  GREEN PEAS            NaN   \n",
       "3  9DMR6   10  2021-10-21     NUTS         DATES       WHOLE            NaN   \n",
       "4  LFPS3   10  2022-10-28   FROZEN     RTC - VEG      SNACKS         SAMOSA   \n",
       "\n",
       "   Sales_Quantity  \n",
       "0             2.0  \n",
       "1             5.0  \n",
       "2             6.0  \n",
       "3             9.0  \n",
       "4             1.0  "
      ]
     },
     "execution_count": 8,
     "metadata": {},
     "output_type": "execute_result"
    }
   ],
   "source": [
    "data.head()"
   ]
  },
  {
   "cell_type": "markdown",
   "id": "cd26d90d",
   "metadata": {},
   "source": [
    "## Filter the data only category SPICES"
   ]
  },
  {
   "cell_type": "code",
   "execution_count": 9,
   "id": "cf623029",
   "metadata": {},
   "outputs": [],
   "source": [
    "categories = ['SPICES']\n",
    "c_data=data[(data['Category'].isin(categories))]"
   ]
  },
  {
   "cell_type": "code",
   "execution_count": 10,
   "id": "f328f89b",
   "metadata": {},
   "outputs": [
    {
     "data": {
      "text/html": [
       "<div>\n",
       "<style scoped>\n",
       "    .dataframe tbody tr th:only-of-type {\n",
       "        vertical-align: middle;\n",
       "    }\n",
       "\n",
       "    .dataframe tbody tr th {\n",
       "        vertical-align: top;\n",
       "    }\n",
       "\n",
       "    .dataframe thead th {\n",
       "        text-align: right;\n",
       "    }\n",
       "</style>\n",
       "<table border=\"1\" class=\"dataframe\">\n",
       "  <thead>\n",
       "    <tr style=\"text-align: right;\">\n",
       "      <th></th>\n",
       "      <th>Item</th>\n",
       "      <th>Loc</th>\n",
       "      <th>Forecast_Dt</th>\n",
       "      <th>Category</th>\n",
       "      <th>Sub_Category</th>\n",
       "      <th>Prod_Class</th>\n",
       "      <th>Prod_Sub_Class</th>\n",
       "      <th>Sales_Quantity</th>\n",
       "    </tr>\n",
       "  </thead>\n",
       "  <tbody>\n",
       "    <tr>\n",
       "      <th>1</th>\n",
       "      <td>LMDA7</td>\n",
       "      <td>10</td>\n",
       "      <td>2022-10-07</td>\n",
       "      <td>SPICES</td>\n",
       "      <td>ROASTED GRAM</td>\n",
       "      <td>DAL</td>\n",
       "      <td>NaN</td>\n",
       "      <td>5.0</td>\n",
       "    </tr>\n",
       "    <tr>\n",
       "      <th>6</th>\n",
       "      <td>1CO7</td>\n",
       "      <td>5</td>\n",
       "      <td>2022-11-03</td>\n",
       "      <td>SPICES</td>\n",
       "      <td>CORIANDER</td>\n",
       "      <td>SEED</td>\n",
       "      <td>NaN</td>\n",
       "      <td>1.0</td>\n",
       "    </tr>\n",
       "    <tr>\n",
       "      <th>16</th>\n",
       "      <td>1TK3</td>\n",
       "      <td>5</td>\n",
       "      <td>2022-09-16</td>\n",
       "      <td>SPICES</td>\n",
       "      <td>OTHERS</td>\n",
       "      <td>TAKMARIA</td>\n",
       "      <td>NaN</td>\n",
       "      <td>1.0</td>\n",
       "    </tr>\n",
       "    <tr>\n",
       "      <th>17</th>\n",
       "      <td>1CID4</td>\n",
       "      <td>6</td>\n",
       "      <td>2022-09-28</td>\n",
       "      <td>SPICES</td>\n",
       "      <td>CINNAMON</td>\n",
       "      <td>STICK</td>\n",
       "      <td>FLAT</td>\n",
       "      <td>2.0</td>\n",
       "    </tr>\n",
       "    <tr>\n",
       "      <th>19</th>\n",
       "      <td>1CL51</td>\n",
       "      <td>8</td>\n",
       "      <td>2022-08-02</td>\n",
       "      <td>SPICES</td>\n",
       "      <td>CLOVE</td>\n",
       "      <td>WHOLE</td>\n",
       "      <td>NaN</td>\n",
       "      <td>2.0</td>\n",
       "    </tr>\n",
       "  </tbody>\n",
       "</table>\n",
       "</div>"
      ],
      "text/plain": [
       "     Item  Loc Forecast_Dt Category  Sub_Category Prod_Class Prod_Sub_Class  \\\n",
       "1   LMDA7   10  2022-10-07   SPICES  ROASTED GRAM        DAL            NaN   \n",
       "6    1CO7    5  2022-11-03   SPICES     CORIANDER       SEED            NaN   \n",
       "16   1TK3    5  2022-09-16   SPICES        OTHERS   TAKMARIA            NaN   \n",
       "17  1CID4    6  2022-09-28   SPICES      CINNAMON      STICK           FLAT   \n",
       "19  1CL51    8  2022-08-02   SPICES         CLOVE      WHOLE            NaN   \n",
       "\n",
       "    Sales_Quantity  \n",
       "1              5.0  \n",
       "6              1.0  \n",
       "16             1.0  \n",
       "17             2.0  \n",
       "19             2.0  "
      ]
     },
     "execution_count": 10,
     "metadata": {},
     "output_type": "execute_result"
    }
   ],
   "source": [
    "c_data.head()"
   ]
  },
  {
   "cell_type": "code",
   "execution_count": 11,
   "id": "ca7d4346",
   "metadata": {},
   "outputs": [
    {
     "data": {
      "text/plain": [
       "<bound method Series.unique of 1          SPICES\n",
       "6          SPICES\n",
       "16         SPICES\n",
       "17         SPICES\n",
       "19         SPICES\n",
       "            ...  \n",
       "1017293    SPICES\n",
       "1017294    SPICES\n",
       "1017295    SPICES\n",
       "1017296    SPICES\n",
       "1017307    SPICES\n",
       "Name: Category, Length: 242673, dtype: object>"
      ]
     },
     "execution_count": 11,
     "metadata": {},
     "output_type": "execute_result"
    }
   ],
   "source": [
    "c_data.Category.unique"
   ]
  },
  {
   "cell_type": "code",
   "execution_count": 12,
   "id": "586092de",
   "metadata": {},
   "outputs": [
    {
     "data": {
      "text/plain": [
       "(242673, 8)"
      ]
     },
     "execution_count": 12,
     "metadata": {},
     "output_type": "execute_result"
    }
   ],
   "source": [
    "c_data.shape"
   ]
  },
  {
   "cell_type": "code",
   "execution_count": 13,
   "id": "f52f956f",
   "metadata": {},
   "outputs": [
    {
     "data": {
      "text/html": [
       "<div>\n",
       "<style scoped>\n",
       "    .dataframe tbody tr th:only-of-type {\n",
       "        vertical-align: middle;\n",
       "    }\n",
       "\n",
       "    .dataframe tbody tr th {\n",
       "        vertical-align: top;\n",
       "    }\n",
       "\n",
       "    .dataframe thead th {\n",
       "        text-align: right;\n",
       "    }\n",
       "</style>\n",
       "<table border=\"1\" class=\"dataframe\">\n",
       "  <thead>\n",
       "    <tr style=\"text-align: right;\">\n",
       "      <th></th>\n",
       "      <th>Item</th>\n",
       "      <th>Loc</th>\n",
       "      <th>Forecast_Dt</th>\n",
       "      <th>Category</th>\n",
       "      <th>Sub_Category</th>\n",
       "      <th>Prod_Class</th>\n",
       "      <th>Prod_Sub_Class</th>\n",
       "      <th>Sales_Quantity</th>\n",
       "    </tr>\n",
       "  </thead>\n",
       "  <tbody>\n",
       "    <tr>\n",
       "      <th>714929</th>\n",
       "      <td>1CHX7</td>\n",
       "      <td>6</td>\n",
       "      <td>2021-01-03</td>\n",
       "      <td>SPICES</td>\n",
       "      <td>CHILI</td>\n",
       "      <td>POWDER</td>\n",
       "      <td>EXTRA HOT</td>\n",
       "      <td>1.000000</td>\n",
       "    </tr>\n",
       "    <tr>\n",
       "      <th>431645</th>\n",
       "      <td>1NW5</td>\n",
       "      <td>6</td>\n",
       "      <td>2021-01-03</td>\n",
       "      <td>SPICES</td>\n",
       "      <td>NUTMEG</td>\n",
       "      <td>WHOLE</td>\n",
       "      <td>NaN</td>\n",
       "      <td>1.000000</td>\n",
       "    </tr>\n",
       "    <tr>\n",
       "      <th>615964</th>\n",
       "      <td>1COP6</td>\n",
       "      <td>6</td>\n",
       "      <td>2021-01-03</td>\n",
       "      <td>SPICES</td>\n",
       "      <td>CORIANDER</td>\n",
       "      <td>POWDER</td>\n",
       "      <td>NaN</td>\n",
       "      <td>1.000000</td>\n",
       "    </tr>\n",
       "    <tr>\n",
       "      <th>503525</th>\n",
       "      <td>1SF10</td>\n",
       "      <td>6</td>\n",
       "      <td>2021-01-03</td>\n",
       "      <td>SPICES</td>\n",
       "      <td>SAFFRON</td>\n",
       "      <td>NaN</td>\n",
       "      <td>NaN</td>\n",
       "      <td>0.011904</td>\n",
       "    </tr>\n",
       "    <tr>\n",
       "      <th>560223</th>\n",
       "      <td>1ME7</td>\n",
       "      <td>4</td>\n",
       "      <td>2021-01-04</td>\n",
       "      <td>SPICES</td>\n",
       "      <td>METHI</td>\n",
       "      <td>SEED</td>\n",
       "      <td>NaN</td>\n",
       "      <td>1.000000</td>\n",
       "    </tr>\n",
       "  </tbody>\n",
       "</table>\n",
       "</div>"
      ],
      "text/plain": [
       "         Item  Loc Forecast_Dt Category Sub_Category Prod_Class  \\\n",
       "714929  1CHX7    6  2021-01-03   SPICES        CHILI     POWDER   \n",
       "431645   1NW5    6  2021-01-03   SPICES       NUTMEG      WHOLE   \n",
       "615964  1COP6    6  2021-01-03   SPICES    CORIANDER     POWDER   \n",
       "503525  1SF10    6  2021-01-03   SPICES      SAFFRON        NaN   \n",
       "560223   1ME7    4  2021-01-04   SPICES        METHI       SEED   \n",
       "\n",
       "       Prod_Sub_Class  Sales_Quantity  \n",
       "714929      EXTRA HOT        1.000000  \n",
       "431645            NaN        1.000000  \n",
       "615964            NaN        1.000000  \n",
       "503525            NaN        0.011904  \n",
       "560223            NaN        1.000000  "
      ]
     },
     "execution_count": 13,
     "metadata": {},
     "output_type": "execute_result"
    }
   ],
   "source": [
    "# Sort the DataFrame by 'Forecast_Dt'\n",
    "df_sorted = c_data.sort_values(by='Forecast_Dt')\n",
    "\n",
    "df_sorted.head()"
   ]
  },
  {
   "cell_type": "markdown",
   "id": "1bfbc0e9",
   "metadata": {},
   "source": [
    "###  Feature engineering "
   ]
  },
  {
   "cell_type": "code",
   "execution_count": 14,
   "id": "c239b9ff",
   "metadata": {},
   "outputs": [],
   "source": [
    "c_data1 = c_data[['Forecast_Dt', 'Sales_Quantity']]\n",
    "c_data1\n",
    "# Reset the index\n",
    "c_data1 = c_data1.reset_index(drop=True)"
   ]
  },
  {
   "cell_type": "code",
   "execution_count": 15,
   "id": "e2318fca",
   "metadata": {},
   "outputs": [
    {
     "data": {
      "text/html": [
       "<div>\n",
       "<style scoped>\n",
       "    .dataframe tbody tr th:only-of-type {\n",
       "        vertical-align: middle;\n",
       "    }\n",
       "\n",
       "    .dataframe tbody tr th {\n",
       "        vertical-align: top;\n",
       "    }\n",
       "\n",
       "    .dataframe thead th {\n",
       "        text-align: right;\n",
       "    }\n",
       "</style>\n",
       "<table border=\"1\" class=\"dataframe\">\n",
       "  <thead>\n",
       "    <tr style=\"text-align: right;\">\n",
       "      <th></th>\n",
       "      <th>Forecast_Dt</th>\n",
       "      <th>Sales_Quantity</th>\n",
       "    </tr>\n",
       "  </thead>\n",
       "  <tbody>\n",
       "    <tr>\n",
       "      <th>170292</th>\n",
       "      <td>2021-01-03</td>\n",
       "      <td>1.000000</td>\n",
       "    </tr>\n",
       "    <tr>\n",
       "      <th>102661</th>\n",
       "      <td>2021-01-03</td>\n",
       "      <td>1.000000</td>\n",
       "    </tr>\n",
       "    <tr>\n",
       "      <th>146660</th>\n",
       "      <td>2021-01-03</td>\n",
       "      <td>1.000000</td>\n",
       "    </tr>\n",
       "    <tr>\n",
       "      <th>120069</th>\n",
       "      <td>2021-01-03</td>\n",
       "      <td>0.011904</td>\n",
       "    </tr>\n",
       "    <tr>\n",
       "      <th>133401</th>\n",
       "      <td>2021-01-04</td>\n",
       "      <td>1.000000</td>\n",
       "    </tr>\n",
       "  </tbody>\n",
       "</table>\n",
       "</div>"
      ],
      "text/plain": [
       "       Forecast_Dt  Sales_Quantity\n",
       "170292  2021-01-03        1.000000\n",
       "102661  2021-01-03        1.000000\n",
       "146660  2021-01-03        1.000000\n",
       "120069  2021-01-03        0.011904\n",
       "133401  2021-01-04        1.000000"
      ]
     },
     "execution_count": 15,
     "metadata": {},
     "output_type": "execute_result"
    }
   ],
   "source": [
    "# Sort the DataFrame by 'Forecast_Dt'\n",
    "df_sorted = c_data1.sort_values(by='Forecast_Dt')\n",
    "\n",
    "df_sorted.head()"
   ]
  },
  {
   "cell_type": "code",
   "execution_count": 16,
   "id": "5d2daa2a",
   "metadata": {
    "scrolled": true
   },
   "outputs": [],
   "source": [
    "df_sorted[\"Forecast_Dt\"]=pd.to_datetime(df_sorted[\"Forecast_Dt\"],dayfirst=True)"
   ]
  },
  {
   "cell_type": "code",
   "execution_count": 17,
   "id": "0f499282",
   "metadata": {},
   "outputs": [
    {
     "name": "stdout",
     "output_type": "stream",
     "text": [
      "2021-01-03 00:00:00\n",
      "2022-12-30 00:00:00\n"
     ]
    },
    {
     "data": {
      "text/html": [
       "<div>\n",
       "<style scoped>\n",
       "    .dataframe tbody tr th:only-of-type {\n",
       "        vertical-align: middle;\n",
       "    }\n",
       "\n",
       "    .dataframe tbody tr th {\n",
       "        vertical-align: top;\n",
       "    }\n",
       "\n",
       "    .dataframe thead th {\n",
       "        text-align: right;\n",
       "    }\n",
       "</style>\n",
       "<table border=\"1\" class=\"dataframe\">\n",
       "  <thead>\n",
       "    <tr style=\"text-align: right;\">\n",
       "      <th></th>\n",
       "      <th>Forecast_Dt</th>\n",
       "      <th>Sales_Quantity</th>\n",
       "    </tr>\n",
       "  </thead>\n",
       "  <tbody>\n",
       "    <tr>\n",
       "      <th>0</th>\n",
       "      <td>2021-01-03</td>\n",
       "      <td>1.000000</td>\n",
       "    </tr>\n",
       "    <tr>\n",
       "      <th>1</th>\n",
       "      <td>2021-01-03</td>\n",
       "      <td>1.000000</td>\n",
       "    </tr>\n",
       "    <tr>\n",
       "      <th>2</th>\n",
       "      <td>2021-01-03</td>\n",
       "      <td>1.000000</td>\n",
       "    </tr>\n",
       "    <tr>\n",
       "      <th>3</th>\n",
       "      <td>2021-01-03</td>\n",
       "      <td>0.011904</td>\n",
       "    </tr>\n",
       "    <tr>\n",
       "      <th>4</th>\n",
       "      <td>2021-01-04</td>\n",
       "      <td>1.000000</td>\n",
       "    </tr>\n",
       "  </tbody>\n",
       "</table>\n",
       "</div>"
      ],
      "text/plain": [
       "  Forecast_Dt  Sales_Quantity\n",
       "0  2021-01-03        1.000000\n",
       "1  2021-01-03        1.000000\n",
       "2  2021-01-03        1.000000\n",
       "3  2021-01-03        0.011904\n",
       "4  2021-01-04        1.000000"
      ]
     },
     "execution_count": 17,
     "metadata": {},
     "output_type": "execute_result"
    }
   ],
   "source": [
    "# grouping sales according to Order Date\n",
    "df_sorted.groupby('Forecast_Dt')['Sales_Quantity'].sum().reset_index()\n",
    "\n",
    "# min and max values of Order Date\n",
    "print(df_sorted['Forecast_Dt'].min())\n",
    "print(df_sorted['Forecast_Dt'].max())\n",
    "\n",
    "# Reset the index\n",
    "df = df_sorted.reset_index(drop=True)\n",
    "df.head()"
   ]
  },
  {
   "cell_type": "code",
   "execution_count": 18,
   "id": "b051f872",
   "metadata": {},
   "outputs": [
    {
     "name": "stdout",
     "output_type": "stream",
     "text": [
      "       Forecast_Dt  Sales_Quantity  IsDuplicate\n",
      "0       2021-01-03        1.000000        False\n",
      "1       2021-01-03        1.000000         True\n",
      "2       2021-01-03        1.000000         True\n",
      "3       2021-01-03        0.011904        False\n",
      "4       2021-01-04        1.000000        False\n",
      "...            ...             ...          ...\n",
      "242668  2022-12-30        1.000000         True\n",
      "242669  2022-12-30       15.000000        False\n",
      "242670  2022-12-30        1.000000         True\n",
      "242671  2022-12-30        1.000000         True\n",
      "242672  2022-12-30        6.000000         True\n",
      "\n",
      "[242673 rows x 3 columns]\n"
     ]
    }
   ],
   "source": [
    "# Check for duplicates\n",
    "duplicates = df.duplicated()\n",
    "\n",
    "# Print the DataFrame with duplicates marked\n",
    "df['IsDuplicate'] = duplicates\n",
    "print(df)"
   ]
  },
  {
   "cell_type": "code",
   "execution_count": 19,
   "id": "41a1f414",
   "metadata": {},
   "outputs": [
    {
     "name": "stdout",
     "output_type": "stream",
     "text": [
      "Number of duplicates: 200057\n"
     ]
    }
   ],
   "source": [
    "# Count duplicates\n",
    "duplicate_count = df.duplicated().sum()\n",
    "\n",
    "# Print the count\n",
    "print(\"Number of duplicates:\", duplicate_count)"
   ]
  },
  {
   "cell_type": "code",
   "execution_count": 20,
   "id": "0d31bfdb",
   "metadata": {},
   "outputs": [
    {
     "name": "stdout",
     "output_type": "stream",
     "text": [
      "       Forecast_Dt  Sales_Quantity  IsDuplicate\n",
      "0       2021-01-03        1.000000        False\n",
      "1       2021-01-03        1.000000         True\n",
      "3       2021-01-03        0.011904        False\n",
      "4       2021-01-04        1.000000        False\n",
      "5       2021-01-04        1.000000         True\n",
      "...            ...             ...          ...\n",
      "242637  2022-12-30        0.050000        False\n",
      "242638  2022-12-30       -5.000000        False\n",
      "242644  2022-12-30        1.500000        False\n",
      "242666  2022-12-30        0.999997        False\n",
      "242669  2022-12-30       15.000000        False\n",
      "\n",
      "[42616 rows x 3 columns]\n"
     ]
    }
   ],
   "source": [
    "# Drop duplicates\n",
    "df = df.drop_duplicates()\n",
    "\n",
    "# Print the DataFrame without duplicates\n",
    "print(df)"
   ]
  },
  {
   "cell_type": "code",
   "execution_count": 21,
   "id": "9863feb2",
   "metadata": {},
   "outputs": [
    {
     "data": {
      "text/plain": [
       "(42616, 3)"
      ]
     },
     "execution_count": 21,
     "metadata": {},
     "output_type": "execute_result"
    }
   ],
   "source": [
    "df.shape"
   ]
  },
  {
   "cell_type": "code",
   "execution_count": 22,
   "id": "642639e8",
   "metadata": {
    "scrolled": true
   },
   "outputs": [
    {
     "data": {
      "text/html": [
       "<div>\n",
       "<style scoped>\n",
       "    .dataframe tbody tr th:only-of-type {\n",
       "        vertical-align: middle;\n",
       "    }\n",
       "\n",
       "    .dataframe tbody tr th {\n",
       "        vertical-align: top;\n",
       "    }\n",
       "\n",
       "    .dataframe thead th {\n",
       "        text-align: right;\n",
       "    }\n",
       "</style>\n",
       "<table border=\"1\" class=\"dataframe\">\n",
       "  <thead>\n",
       "    <tr style=\"text-align: right;\">\n",
       "      <th></th>\n",
       "      <th>Forecast_Dt</th>\n",
       "      <th>Sales_Quantity</th>\n",
       "      <th>IsDuplicate</th>\n",
       "    </tr>\n",
       "  </thead>\n",
       "  <tbody>\n",
       "    <tr>\n",
       "      <th>0</th>\n",
       "      <td>2021-01-03</td>\n",
       "      <td>1.000000</td>\n",
       "      <td>False</td>\n",
       "    </tr>\n",
       "    <tr>\n",
       "      <th>1</th>\n",
       "      <td>2021-01-03</td>\n",
       "      <td>1.000000</td>\n",
       "      <td>True</td>\n",
       "    </tr>\n",
       "    <tr>\n",
       "      <th>3</th>\n",
       "      <td>2021-01-03</td>\n",
       "      <td>0.011904</td>\n",
       "      <td>False</td>\n",
       "    </tr>\n",
       "    <tr>\n",
       "      <th>4</th>\n",
       "      <td>2021-01-04</td>\n",
       "      <td>1.000000</td>\n",
       "      <td>False</td>\n",
       "    </tr>\n",
       "    <tr>\n",
       "      <th>5</th>\n",
       "      <td>2021-01-04</td>\n",
       "      <td>1.000000</td>\n",
       "      <td>True</td>\n",
       "    </tr>\n",
       "  </tbody>\n",
       "</table>\n",
       "</div>"
      ],
      "text/plain": [
       "  Forecast_Dt  Sales_Quantity  IsDuplicate\n",
       "0  2021-01-03        1.000000        False\n",
       "1  2021-01-03        1.000000         True\n",
       "3  2021-01-03        0.011904        False\n",
       "4  2021-01-04        1.000000        False\n",
       "5  2021-01-04        1.000000         True"
      ]
     },
     "execution_count": 22,
     "metadata": {},
     "output_type": "execute_result"
    }
   ],
   "source": [
    "df.head()"
   ]
  },
  {
   "cell_type": "code",
   "execution_count": 23,
   "id": "cbc4b459",
   "metadata": {},
   "outputs": [
    {
     "name": "stdout",
     "output_type": "stream",
     "text": [
      "Number of duplicates: 0\n"
     ]
    }
   ],
   "source": [
    "# Count duplicates\n",
    "duplicate_count1 = df.duplicated().sum()\n",
    "\n",
    "# Print the count\n",
    "print(\"Number of duplicates:\", duplicate_count1)"
   ]
  },
  {
   "cell_type": "code",
   "execution_count": 24,
   "id": "00bc2fda",
   "metadata": {},
   "outputs": [
    {
     "data": {
      "text/html": [
       "<div>\n",
       "<style scoped>\n",
       "    .dataframe tbody tr th:only-of-type {\n",
       "        vertical-align: middle;\n",
       "    }\n",
       "\n",
       "    .dataframe tbody tr th {\n",
       "        vertical-align: top;\n",
       "    }\n",
       "\n",
       "    .dataframe thead th {\n",
       "        text-align: right;\n",
       "    }\n",
       "</style>\n",
       "<table border=\"1\" class=\"dataframe\">\n",
       "  <thead>\n",
       "    <tr style=\"text-align: right;\">\n",
       "      <th></th>\n",
       "      <th>Forecast_Dt</th>\n",
       "      <th>Sales_Quantity</th>\n",
       "    </tr>\n",
       "  </thead>\n",
       "  <tbody>\n",
       "    <tr>\n",
       "      <th>0</th>\n",
       "      <td>2021-01-03</td>\n",
       "      <td>1.000000</td>\n",
       "    </tr>\n",
       "    <tr>\n",
       "      <th>1</th>\n",
       "      <td>2021-01-03</td>\n",
       "      <td>1.000000</td>\n",
       "    </tr>\n",
       "    <tr>\n",
       "      <th>3</th>\n",
       "      <td>2021-01-03</td>\n",
       "      <td>0.011904</td>\n",
       "    </tr>\n",
       "    <tr>\n",
       "      <th>4</th>\n",
       "      <td>2021-01-04</td>\n",
       "      <td>1.000000</td>\n",
       "    </tr>\n",
       "    <tr>\n",
       "      <th>5</th>\n",
       "      <td>2021-01-04</td>\n",
       "      <td>1.000000</td>\n",
       "    </tr>\n",
       "    <tr>\n",
       "      <th>...</th>\n",
       "      <td>...</td>\n",
       "      <td>...</td>\n",
       "    </tr>\n",
       "    <tr>\n",
       "      <th>242637</th>\n",
       "      <td>2022-12-30</td>\n",
       "      <td>0.050000</td>\n",
       "    </tr>\n",
       "    <tr>\n",
       "      <th>242638</th>\n",
       "      <td>2022-12-30</td>\n",
       "      <td>-5.000000</td>\n",
       "    </tr>\n",
       "    <tr>\n",
       "      <th>242644</th>\n",
       "      <td>2022-12-30</td>\n",
       "      <td>1.500000</td>\n",
       "    </tr>\n",
       "    <tr>\n",
       "      <th>242666</th>\n",
       "      <td>2022-12-30</td>\n",
       "      <td>0.999997</td>\n",
       "    </tr>\n",
       "    <tr>\n",
       "      <th>242669</th>\n",
       "      <td>2022-12-30</td>\n",
       "      <td>15.000000</td>\n",
       "    </tr>\n",
       "  </tbody>\n",
       "</table>\n",
       "<p>42616 rows × 2 columns</p>\n",
       "</div>"
      ],
      "text/plain": [
       "       Forecast_Dt  Sales_Quantity\n",
       "0       2021-01-03        1.000000\n",
       "1       2021-01-03        1.000000\n",
       "3       2021-01-03        0.011904\n",
       "4       2021-01-04        1.000000\n",
       "5       2021-01-04        1.000000\n",
       "...            ...             ...\n",
       "242637  2022-12-30        0.050000\n",
       "242638  2022-12-30       -5.000000\n",
       "242644  2022-12-30        1.500000\n",
       "242666  2022-12-30        0.999997\n",
       "242669  2022-12-30       15.000000\n",
       "\n",
       "[42616 rows x 2 columns]"
      ]
     },
     "execution_count": 24,
     "metadata": {},
     "output_type": "execute_result"
    }
   ],
   "source": [
    "df1 = df[['Forecast_Dt', 'Sales_Quantity']]\n",
    "df1\n"
   ]
  },
  {
   "cell_type": "code",
   "execution_count": 25,
   "id": "7ad6b2fd",
   "metadata": {},
   "outputs": [
    {
     "name": "stderr",
     "output_type": "stream",
     "text": [
      "C:\\Users\\Seenivasan\\AppData\\Local\\Temp\\ipykernel_18004\\2662580087.py:1: SettingWithCopyWarning: \n",
      "A value is trying to be set on a copy of a slice from a DataFrame.\n",
      "Try using .loc[row_indexer,col_indexer] = value instead\n",
      "\n",
      "See the caveats in the documentation: https://pandas.pydata.org/pandas-docs/stable/user_guide/indexing.html#returning-a-view-versus-a-copy\n",
      "  df1[\"Forecast_Dt\"]=pd.to_datetime(df1[\"Forecast_Dt\"],dayfirst=True)\n"
     ]
    }
   ],
   "source": [
    "df1[\"Forecast_Dt\"]=pd.to_datetime(df1[\"Forecast_Dt\"],dayfirst=True)"
   ]
  },
  {
   "cell_type": "markdown",
   "id": "d734f0bd",
   "metadata": {},
   "source": [
    "###  Checking  stationary and non-stationary"
   ]
  },
  {
   "cell_type": "code",
   "execution_count": 26,
   "id": "a93b9d9d",
   "metadata": {},
   "outputs": [
    {
     "data": {
      "image/png": "[encoded data removed]",
      "text/plain": [
       "<Figure size 1500x500 with 1 Axes>"
      ]
     },
     "metadata": {},
     "output_type": "display_data"
    }
   ],
   "source": [
    "import matplotlib.pyplot as plt\n",
    "\n",
    "plt.figure(figsize=(15, 5), facecolor=\"gray\")\n",
    "plt.plot(df1[\"Sales_Quantity\"])  # Update the column name without the leading tab character\n",
    "\n",
    "plt.show()"
   ]
  },
  {
   "cell_type": "code",
   "execution_count": 27,
   "id": "fb48a6dd",
   "metadata": {},
   "outputs": [
    {
     "data": {
      "image/png": "[encoded data removed]",
      "text/plain": [
       "<Figure size 1500x500 with 1 Axes>"
      ]
     },
     "metadata": {},
     "output_type": "display_data"
    }
   ],
   "source": [
    "import matplotlib.pyplot as plt\n",
    "\n",
    "# Assuming your DataFrame is named 'df'\n",
    "subset_size = int(len(df) * 0.01)  # Calculate the size of the subset (30% of the data)\n",
    "subset = df1.head(subset_size)  # Select the first 1% of the data\n",
    "\n",
    "plt.figure(figsize=(15, 5), facecolor=\"gray\")\n",
    "plt.plot(subset[\"Sales_Quantity\"])  # Plot the subset of the \"Sales_Quantity\" column\n",
    "\n",
    "plt.show()"
   ]
  },
  {
   "cell_type": "code",
   "execution_count": 28,
   "id": "1b86bfa0",
   "metadata": {},
   "outputs": [
    {
     "data": {
      "image/png": "[encoded data removed]",
      "text/plain": [
       "<Figure size 1500x500 with 1 Axes>"
      ]
     },
     "metadata": {},
     "output_type": "display_data"
    }
   ],
   "source": [
    "import seaborn as sns\n",
    "plt.figure(figsize=(15, 5))\n",
    "sns.lineplot(data=df1, x=\"Forecast_Dt\", y=\"Sales_Quantity\")\n",
    "plt.xticks(rotation=90)\n",
    "\n",
    "plt.show()"
   ]
  },
  {
   "cell_type": "code",
   "execution_count": 31,
   "id": "204241ec",
   "metadata": {},
   "outputs": [
    {
     "name": "stdout",
     "output_type": "stream",
     "text": [
      "ADF: -21.923899861823923\n",
      "p_value: 0.0\n",
      "Lags: 52\n",
      "Number of observations used: 42563\n"
     ]
    }
   ],
   "source": [
    "from statsmodels.tsa.stattools import adfuller\n",
    "import numpy as np\n",
    "\n",
    "def adfuller_test(x):\n",
    "    x_values = x.astype(np.int64) // 10**9  # Convert to seconds since the epoch\n",
    "    result = adfuller(x_values)\n",
    "    labels = [\"ADF\", \"p_value\", \"Lags\", \"Number of observations used\"]\n",
    "    for value, label in zip(result, labels):\n",
    "        print(f\"{label}: {value}\")\n",
    "\n",
    "# Apply the function to your DataFrame column\n",
    "adfuller_test(df1['Sales_Quantity'])\n",
    "\n"
   ]
  },
  {
   "cell_type": "markdown",
   "id": "6d648160",
   "metadata": {},
   "source": [
    "### Performing stepwise search to minimize aic values"
   ]
  },
  {
   "cell_type": "code",
   "execution_count": 36,
   "id": "b9c11bac",
   "metadata": {
    "scrolled": false
   },
   "outputs": [
    {
     "name": "stdout",
     "output_type": "stream",
     "text": [
      "Performing stepwise search to minimize aic\n",
      " ARIMA(2,1,2)(0,0,0)[0] intercept   : AIC=316814.671, Time=31.61 sec\n",
      " ARIMA(0,1,0)(0,0,0)[0] intercept   : AIC=344767.042, Time=1.44 sec\n",
      " ARIMA(1,1,0)(0,0,0)[0] intercept   : AIC=333079.752, Time=3.40 sec\n",
      " ARIMA(0,1,1)(0,0,0)[0] intercept   : AIC=316824.238, Time=15.65 sec\n",
      " ARIMA(0,1,0)(0,0,0)[0]             : AIC=344765.042, Time=0.76 sec\n",
      " ARIMA(1,1,2)(0,0,0)[0] intercept   : AIC=316824.145, Time=19.97 sec\n",
      " ARIMA(2,1,1)(0,0,0)[0] intercept   : AIC=316812.882, Time=31.86 sec\n",
      " ARIMA(1,1,1)(0,0,0)[0] intercept   : AIC=316810.883, Time=26.15 sec\n",
      " ARIMA(0,1,2)(0,0,0)[0] intercept   : AIC=316810.867, Time=26.63 sec\n",
      " ARIMA(0,1,3)(0,0,0)[0] intercept   : AIC=316812.840, Time=33.90 sec\n",
      " ARIMA(1,1,3)(0,0,0)[0] intercept   : AIC=316814.357, Time=36.23 sec\n",
      " ARIMA(0,1,2)(0,0,0)[0]             : AIC=316808.867, Time=6.99 sec\n",
      " ARIMA(0,1,1)(0,0,0)[0]             : AIC=316822.238, Time=4.31 sec\n",
      " ARIMA(1,1,2)(0,0,0)[0]             : AIC=316809.635, Time=23.41 sec\n",
      " ARIMA(0,1,3)(0,0,0)[0]             : AIC=316810.840, Time=10.88 sec\n",
      " ARIMA(1,1,1)(0,0,0)[0]             : AIC=316808.884, Time=9.32 sec\n",
      " ARIMA(1,1,3)(0,0,0)[0]             : AIC=316812.356, Time=12.52 sec\n",
      "\n",
      "Best model:  ARIMA(0,1,2)(0,0,0)[0]          \n",
      "Total fit time: 295.080 seconds\n"
     ]
    },
    {
     "data": {
      "text/html": [
       "<table class=\"simpletable\">\n",
       "<caption>SARIMAX Results</caption>\n",
       "<tr>\n",
       "  <th>Dep. Variable:</th>           <td>y</td>        <th>  No. Observations:  </th>    <td>42616</td>   \n",
       "</tr>\n",
       "<tr>\n",
       "  <th>Model:</th>           <td>SARIMAX(0, 1, 2)</td> <th>  Log Likelihood     </th> <td>-158401.433</td>\n",
       "</tr>\n",
       "<tr>\n",
       "  <th>Date:</th>            <td>Tue, 11 Jul 2023</td> <th>  AIC                </th> <td>316808.867</td> \n",
       "</tr>\n",
       "<tr>\n",
       "  <th>Time:</th>                <td>14:03:07</td>     <th>  BIC                </th> <td>316834.847</td> \n",
       "</tr>\n",
       "<tr>\n",
       "  <th>Sample:</th>                  <td>0</td>        <th>  HQIC               </th> <td>316817.066</td> \n",
       "</tr>\n",
       "<tr>\n",
       "  <th></th>                     <td> - 42616</td>     <th>                     </th>      <td> </td>     \n",
       "</tr>\n",
       "<tr>\n",
       "  <th>Covariance Type:</th>        <td>opg</td>       <th>                     </th>      <td> </td>     \n",
       "</tr>\n",
       "</table>\n",
       "<table class=\"simpletable\">\n",
       "<tr>\n",
       "     <td></td>       <th>coef</th>     <th>std err</th>      <th>z</th>      <th>P>|z|</th>  <th>[0.025</th>    <th>0.975]</th>  \n",
       "</tr>\n",
       "<tr>\n",
       "  <th>ma.L1</th>  <td>   -0.9628</td> <td>    0.003</td> <td> -334.562</td> <td> 0.000</td> <td>   -0.968</td> <td>   -0.957</td>\n",
       "</tr>\n",
       "<tr>\n",
       "  <th>ma.L2</th>  <td>   -0.0197</td> <td>    0.003</td> <td>   -6.685</td> <td> 0.000</td> <td>   -0.025</td> <td>   -0.014</td>\n",
       "</tr>\n",
       "<tr>\n",
       "  <th>sigma2</th> <td>   99.1057</td> <td>    0.101</td> <td>  978.377</td> <td> 0.000</td> <td>   98.907</td> <td>   99.304</td>\n",
       "</tr>\n",
       "</table>\n",
       "<table class=\"simpletable\">\n",
       "<tr>\n",
       "  <th>Ljung-Box (L1) (Q):</th>     <td>0.00</td> <th>  Jarque-Bera (JB):  </th> <td>21953343.47</td>\n",
       "</tr>\n",
       "<tr>\n",
       "  <th>Prob(Q):</th>                <td>0.99</td> <th>  Prob(JB):          </th>    <td>0.00</td>    \n",
       "</tr>\n",
       "<tr>\n",
       "  <th>Heteroskedasticity (H):</th> <td>1.42</td> <th>  Skew:              </th>    <td>7.14</td>    \n",
       "</tr>\n",
       "<tr>\n",
       "  <th>Prob(H) (two-sided):</th>    <td>0.00</td> <th>  Kurtosis:          </th>   <td>113.27</td>   \n",
       "</tr>\n",
       "</table><br/><br/>Warnings:<br/>[1] Covariance matrix calculated using the outer product of gradients (complex-step)."
      ],
      "text/plain": [
       "<class 'statsmodels.iolib.summary.Summary'>\n",
       "\"\"\"\n",
       "                               SARIMAX Results                                \n",
       "==============================================================================\n",
       "Dep. Variable:                      y   No. Observations:                42616\n",
       "Model:               SARIMAX(0, 1, 2)   Log Likelihood             -158401.433\n",
       "Date:                Tue, 11 Jul 2023   AIC                         316808.867\n",
       "Time:                        14:03:07   BIC                         316834.847\n",
       "Sample:                             0   HQIC                        316817.066\n",
       "                              - 42616                                         \n",
       "Covariance Type:                  opg                                         \n",
       "==============================================================================\n",
       "                 coef    std err          z      P>|z|      [0.025      0.975]\n",
       "------------------------------------------------------------------------------\n",
       "ma.L1         -0.9628      0.003   -334.562      0.000      -0.968      -0.957\n",
       "ma.L2         -0.0197      0.003     -6.685      0.000      -0.025      -0.014\n",
       "sigma2        99.1057      0.101    978.377      0.000      98.907      99.304\n",
       "===================================================================================\n",
       "Ljung-Box (L1) (Q):                   0.00   Jarque-Bera (JB):          21953343.47\n",
       "Prob(Q):                              0.99   Prob(JB):                         0.00\n",
       "Heteroskedasticity (H):               1.42   Skew:                             7.14\n",
       "Prob(H) (two-sided):                  0.00   Kurtosis:                       113.27\n",
       "===================================================================================\n",
       "\n",
       "Warnings:\n",
       "[1] Covariance matrix calculated using the outer product of gradients (complex-step).\n",
       "\"\"\""
      ]
     },
     "execution_count": 36,
     "metadata": {},
     "output_type": "execute_result"
    }
   ],
   "source": [
    "from pmdarima.arima import auto_arima\n",
    "\n",
    "# Extract the 'Sales_Quantity' column from the DataFrame and convert it to a 1D array\n",
    "y = df1['Sales_Quantity'].values.ravel()\n",
    "\n",
    "# Use auto_arima on the 1D array\n",
    "stepwise_fit = auto_arima(y, trace=True, suppress_warnings=True)\n",
    "stepwise_fit.summary()\n",
    "\n"
   ]
  },
  {
   "cell_type": "markdown",
   "id": "8977d1cb",
   "metadata": {},
   "source": [
    "### split the data train and test"
   ]
  },
  {
   "cell_type": "code",
   "execution_count": 39,
   "id": "306e3973",
   "metadata": {},
   "outputs": [],
   "source": [
    "# Train and test set\n",
    "train=df1[:42515]\n",
    "test=df1[42515:]"
   ]
  },
  {
   "cell_type": "markdown",
   "id": "f93132a2",
   "metadata": {},
   "source": [
    "### Bulid the model of TSA algorithms"
   ]
  },
  {
   "cell_type": "code",
   "execution_count": 41,
   "id": "e7ed9e61",
   "metadata": {},
   "outputs": [
    {
     "name": "stderr",
     "output_type": "stream",
     "text": [
      "C:\\Users\\Seenivasan\\AppData\\Local\\Temp\\ipykernel_18004\\45199804.py:1: SettingWithCopyWarning: \n",
      "A value is trying to be set on a copy of a slice from a DataFrame.\n",
      "Try using .loc[row_indexer,col_indexer] = value instead\n",
      "\n",
      "See the caveats in the documentation: https://pandas.pydata.org/pandas-docs/stable/user_guide/indexing.html#returning-a-view-versus-a-copy\n",
      "  train['Sales_Quantity'] = pd.to_numeric(train['Sales_Quantity'], errors='coerce')\n",
      "C:\\Users\\Seenivasan\\anaconda3\\lib\\site-packages\\statsmodels\\tsa\\base\\tsa_model.py:471: ValueWarning: An unsupported index was provided and will be ignored when e.g. forecasting.\n",
      "  self._init_dates(dates, freq)\n",
      "C:\\Users\\Seenivasan\\anaconda3\\lib\\site-packages\\statsmodels\\tsa\\base\\tsa_model.py:471: ValueWarning: An unsupported index was provided and will be ignored when e.g. forecasting.\n",
      "  self._init_dates(dates, freq)\n",
      "C:\\Users\\Seenivasan\\anaconda3\\lib\\site-packages\\statsmodels\\tsa\\base\\tsa_model.py:471: ValueWarning: An unsupported index was provided and will be ignored when e.g. forecasting.\n",
      "  self._init_dates(dates, freq)\n"
     ]
    },
    {
     "name": "stdout",
     "output_type": "stream",
     "text": [
      "                               SARIMAX Results                                \n",
      "==============================================================================\n",
      "Dep. Variable:         Sales_Quantity   No. Observations:                42515\n",
      "Model:                 ARIMA(2, 1, 2)   Log Likelihood             -158060.063\n",
      "Date:                Tue, 11 Jul 2023   AIC                         316130.125\n",
      "Time:                        14:12:01   BIC                         316173.413\n",
      "Sample:                             0   HQIC                        316143.788\n",
      "                              - 42515                                         \n",
      "Covariance Type:                  opg                                         \n",
      "==============================================================================\n",
      "                 coef    std err          z      P>|z|      [0.025      0.975]\n",
      "------------------------------------------------------------------------------\n",
      "ar.L1         -0.8775      0.236     -3.716      0.000      -1.340      -0.415\n",
      "ar.L2          0.0170      0.007      2.447      0.014       0.003       0.031\n",
      "ma.L1         -0.0853      0.237     -0.361      0.718      -0.549       0.378\n",
      "ma.L2         -0.8822      0.233     -3.794      0.000      -1.338      -0.426\n",
      "sigma2        99.2559      0.104    954.697      0.000      99.052      99.460\n",
      "===================================================================================\n",
      "Ljung-Box (L1) (Q):                   0.00   Jarque-Bera (JB):          21869000.02\n",
      "Prob(Q):                              0.99   Prob(JB):                         0.00\n",
      "Heteroskedasticity (H):               1.43   Skew:                             7.14\n",
      "Prob(H) (two-sided):                  0.00   Kurtosis:                       113.19\n",
      "===================================================================================\n",
      "\n",
      "Warnings:\n",
      "[1] Covariance matrix calculated using the outer product of gradients (complex-step).\n"
     ]
    }
   ],
   "source": [
    "train['Sales_Quantity'] = pd.to_numeric(train['Sales_Quantity'], errors='coerce')\n",
    "from statsmodels.tsa.arima.model import ARIMA\n",
    "# Create the ARIMA model\n",
    "model = ARIMA(train['Sales_Quantity'], order=(2, 1, 2))\n",
    "model_fit = model.fit()\n",
    "\n",
    "# Print the summary of the model\n",
    "print(model_fit.summary())\n"
   ]
  },
  {
   "cell_type": "code",
   "execution_count": 43,
   "id": "a8196c69",
   "metadata": {},
   "outputs": [
    {
     "name": "stdout",
     "output_type": "stream",
     "text": [
      "42515    4.095876\n",
      "42516    4.193399\n",
      "42517    4.157620\n",
      "42518    4.190672\n",
      "42519    4.161062\n",
      "           ...   \n",
      "42611    4.175058\n",
      "42612    4.175059\n",
      "42613    4.175058\n",
      "42614    4.175059\n",
      "42615    4.175058\n",
      "Name: predicted_mean, Length: 101, dtype: float64\n"
     ]
    },
    {
     "name": "stderr",
     "output_type": "stream",
     "text": [
      "C:\\Users\\Seenivasan\\anaconda3\\lib\\site-packages\\statsmodels\\tsa\\base\\tsa_model.py:834: ValueWarning: No supported index is available. Prediction results will be given with an integer index beginning at `start`.\n",
      "  return get_prediction_index(\n"
     ]
    }
   ],
   "source": [
    "# Retrieve the estimated model parameters\n",
    "params = model_fit.params\n",
    "\n",
    "# Make predictions using the updated start and end arguments\n",
    "pred = model_fit.predict(start=start, end=end, params=params, typ='levels')\n",
    "print(pred)\n"
   ]
  },
  {
   "cell_type": "markdown",
   "id": "3bbfb8c5",
   "metadata": {},
   "source": [
    "### Evaluation Metrics "
   ]
  },
  {
   "cell_type": "code",
   "execution_count": 60,
   "id": "401696df",
   "metadata": {},
   "outputs": [
    {
     "name": "stdout",
     "output_type": "stream",
     "text": [
      "MAE: 1.672341291089109e+18\n",
      "MSE: 2.7967253950670827e+36\n",
      "RMSE: 1.6723412914435507e+18\n",
      "RMPE: 1.0\n"
     ]
    }
   ],
   "source": [
    "import pandas as pd\n",
    "from sklearn.metrics import mean_absolute_error, mean_squared_error\n",
    "from sklearn.metrics import mean_absolute_error,mean_squared_error,r2_score,mean_absolute_percentage_error\n",
    "# Convert datetime values in test array to numeric values\n",
    "test_numeric = pd.to_numeric(test['Forecast_Dt'])\n",
    "\n",
    "# Calculate the metrics\n",
    "mae = mean_absolute_error(test_numeric, pred)\n",
    "mse = mean_squared_error(test_numeric, pred)\n",
    "rmse = mean_squared_error(test_numeric, pred, squared=False)\n",
    "mape = mean_absolute_percentage_error(test_numeric,pred)\n",
    "print(\"MAE:\", mae)\n",
    "print(\"MSE:\", mse)\n",
    "print(\"RMSE:\", rmse)\n",
    "print(\"RMPE:\", mape)"
   ]
  },
  {
   "cell_type": "code",
   "execution_count": 61,
   "id": "daedac66",
   "metadata": {},
   "outputs": [
    {
     "data": {
      "image/png": "[encoded data removed]",
      "text/plain": [
       "<Figure size 640x480 with 1 Axes>"
      ]
     },
     "metadata": {},
     "output_type": "display_data"
    }
   ],
   "source": [
    "plt.plot(np.array(test['Sales_Quantity']),label=\"Expected\")\n",
    "plt.plot(np.array(pred),label=\"Predicted\")\n",
    "plt.legend();"
   ]
  }
 ],
 "metadata": {
  "kernelspec": {
   "display_name": "Python 3 (ipykernel)",
   "language": "python",
   "name": "python3"
  },
  "language_info": {
   "codemirror_mode": {
    "name": "ipython",
    "version": 3
   },
   "file_extension": ".py",
   "mimetype": "text/x-python",
   "name": "python",
   "nbconvert_exporter": "python",
   "pygments_lexer": "ipython3",
   "version": "3.10.9"
  }
 },
 "nbformat": 4,
 "nbformat_minor": 5
}
